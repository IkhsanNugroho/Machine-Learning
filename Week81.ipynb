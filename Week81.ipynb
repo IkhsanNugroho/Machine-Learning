{
  "nbformat": 4,
  "nbformat_minor": 0,
  "metadata": {
    "colab": {
      "name": "Week8.ipynb",
      "provenance": [],
      "collapsed_sections": [],
      "authorship_tag": "ABX9TyNvsT2QxSRt6FsiHg/SvObk",
      "include_colab_link": true
    },
    "kernelspec": {
      "name": "python3",
      "display_name": "Python 3"
    },
    "language_info": {
      "name": "python"
    }
  },
  "cells": [
    {
      "cell_type": "markdown",
      "metadata": {
        "id": "view-in-github",
        "colab_type": "text"
      },
      "source": [
        "<a href=\"https://colab.research.google.com/github/IkhsanNugroho/Machine-Learning/blob/main/Week81.ipynb\" target=\"_parent\"><img src=\"https://colab.research.google.com/assets/colab-badge.svg\" alt=\"Open In Colab\"/></a>"
      ]
    },
    {
      "cell_type": "markdown",
      "source": [
        "Support Vector Machines (SVM)**teks tebal**\n",
        "\n",
        "Support vector machines (SVMs) are a set of supervised learning methods used for classification, regression and outliers detection.\n",
        "\n",
        "Example of SVM Classification: **Maximum Margin Separating Hyperplane Programs**"
      ],
      "metadata": {
        "id": "rc9TG4Cq8MvB"
      }
    },
    {
      "cell_type": "code",
      "execution_count": 1,
      "metadata": {
        "colab": {
          "base_uri": "https://localhost:8080/",
          "height": 265
        },
        "id": "mzPsqmyG8BOy",
        "outputId": "d8e6ded9-f087-4e70-fca8-0cffce80c656"
      },
      "outputs": [
        {
          "output_type": "display_data",
          "data": {
            "text/plain": [
              "<Figure size 432x288 with 1 Axes>"
            ],
            "image/png": "[encoded data removed]"
          },
          "metadata": {
            "needs_background": "light"
          }
        }
      ],
      "source": [
        "# libraries\n",
        "import numpy as np\n",
        "import matplotlib.pyplot as plt\n",
        "from sklearn import svm\n",
        "from sklearn.datasets import make_blobs\n",
        "\n",
        "\n",
        "# create 40 separable points\n",
        "X, y = make_blobs(n_samples=40, centers=2, random_state=6)\n",
        "\n",
        "# fit the model\n",
        "clf = svm.SVC(kernel=\"linear\", C=1000)\n",
        "clf.fit(X, y)\n",
        "\n",
        "plt.scatter(X[:, 0], X[:, 1], c=y, s=30, cmap=plt.cm.Paired)\n",
        "\n",
        "# plot the decision function\n",
        "ax = plt.gca()\n",
        "xlim = ax.get_xlim()\n",
        "ylim = ax.get_ylim()\n",
        "\n",
        "# create grid to evaluate model\n",
        "xx = np.linspace(xlim[0], xlim[1], 30)\n",
        "yy = np.linspace(ylim[0], ylim[1], 30)\n",
        "YY, XX = np.meshgrid(yy, xx)\n",
        "xy = np.vstack([XX.ravel(), YY.ravel()]).T\n",
        "Z = clf.decision_function(xy).reshape(XX.shape)\n",
        "\n",
        "# plot decision boundary and margins\n",
        "ax.contour(\n",
        "    XX, YY, Z, colors=\"k\", levels=[-1, 0, 1], alpha=0.5, linestyles=[\"--\", \"-\", \"--\"]\n",
        ")\n",
        "# plot support vectors\n",
        "ax.scatter(\n",
        "    clf.support_vectors_[:, 0],\n",
        "    clf.support_vectors_[:, 1],\n",
        "    s=100,\n",
        "    linewidth=1,\n",
        "    facecolors=\"none\",\n",
        "    edgecolors=\"k\",\n",
        ")\n",
        "plt.show()"
      ]
    },
    {
      "cell_type": "markdown",
      "source": [
        "**Credit card dataset: SVM Classification**"
      ],
      "metadata": {
        "id": "YAD7S-f54DjA"
      }
    },
    {
      "cell_type": "code",
      "source": [
        "# Importing librairies\n",
        "\n",
        "import pandas as pd \n",
        "import numpy as np\n",
        "\n",
        "# Scikit-learn library: For SVM\n",
        "from sklearn import preprocessing\n",
        "from sklearn.metrics import confusion_matrix\n",
        "from sklearn import svm\n",
        "\n",
        "import itertools\n",
        "\n",
        "# Matplotlib library to plot the charts\n",
        "import matplotlib.pyplot as plt\n",
        "import matplotlib.mlab as mlab\n",
        "\n",
        "# Library for the statistic data vizualisation\n",
        "import seaborn\n",
        "\n",
        "%matplotlib inline"
      ],
      "metadata": {
        "id": "dU9Lx5_J4TPa"
      },
      "execution_count": 2,
      "outputs": []
    },
    {
      "cell_type": "code",
      "source": [
        "# Reading the file .csv\n",
        "data = pd.read_csv('creditcard.csv') \n",
        "# Converting data to Panda DataFrame\n",
        "df = pd.DataFrame(data) \n",
        "# Description of statistic features (Sum, Average, Variance, minimum, 1st quartile, 2nd quartile, 3rd Quartile and Maximum)\n",
        "df.describe()"
      ],
      "metadata": {
        "colab": {
          "base_uri": "https://localhost:8080/",
          "height": 394
        },
        "id": "B7YWrR_c4fxu",
        "outputId": "fb94614e-cb05-44ca-ae9c-d705899145ea"
      },
      "execution_count": 3,
      "outputs": [
        {
          "output_type": "execute_result",
          "data": {
            "text/plain": [
              "              Time            V1            V2            V3            V4  \\\n",
              "count  43664.00000  43664.000000  43664.000000  43664.000000  43664.000000   \n",
              "mean   26888.25284     -0.233273      0.031606      0.700508      0.191731   \n",
              "std    12814.99066      1.881487      1.614103      1.524287      1.407338   \n",
              "min        0.00000    -56.407510    -72.715728    -32.454198     -5.172595   \n",
              "25%    18719.75000     -0.980241     -0.538882      0.225681     -0.715653   \n",
              "50%    31883.00000     -0.244783      0.091807      0.804944      0.190472   \n",
              "75%    36950.00000      1.158119      0.740709      1.437905      1.071096   \n",
              "max    41600.00000      1.960497     17.930550      4.101716     16.491217   \n",
              "\n",
              "                 V5            V6            V7            V8            V9  \\\n",
              "count  43664.000000  43664.000000  43664.000000  43664.000000  43664.000000   \n",
              "mean      -0.243618      0.099239     -0.117611      0.051499      0.173603   \n",
              "std        1.409001      1.310495      1.272765      1.214443      1.226176   \n",
              "min      -42.147898    -26.160506    -26.548144    -41.484823     -8.507059   \n",
              "25%       -0.848251     -0.637897     -0.599128     -0.149257     -0.579444   \n",
              "50%       -0.277415     -0.155863     -0.072568      0.053267      0.053757   \n",
              "75%        0.290816      0.486612      0.431337      0.322613      0.881798   \n",
              "max       34.801666     22.529298     36.677268     20.007208     10.392889   \n",
              "\n",
              "       ...           V21           V22           V23           V24  \\\n",
              "count  ...  43664.000000  43664.000000  43664.000000  43664.000000   \n",
              "mean   ...     -0.026792     -0.110075     -0.039981      0.009712   \n",
              "std    ...      0.739609      0.637124      0.568360      0.592318   \n",
              "min    ...    -20.262054     -8.593642    -26.751119     -2.836627   \n",
              "25%    ...     -0.233410     -0.530920     -0.179112     -0.321968   \n",
              "50%    ...     -0.072254     -0.084865     -0.051512      0.062302   \n",
              "75%    ...      0.104877      0.302064      0.077031      0.401497   \n",
              "max    ...     22.614889      5.805795     17.297845      4.014444   \n",
              "\n",
              "                V25           V26           V27           V28        Amount  \\\n",
              "count  43664.000000  43664.000000  43663.000000  43663.000000  43663.000000   \n",
              "mean       0.136448      0.022633      0.006871      0.005107     90.313927   \n",
              "std        0.437462      0.503349      0.390445      0.342269    238.441952   \n",
              "min       -7.495741     -1.438650     -8.567638     -9.617915      0.000000   \n",
              "25%       -0.128037     -0.329466     -0.063372     -0.006848      7.570000   \n",
              "50%        0.175968     -0.066830      0.008647      0.021761     24.890000   \n",
              "75%        0.421923      0.303412      0.084707      0.076353     81.555000   \n",
              "max        5.525093      3.517346     11.135740     33.847808   7879.420000   \n",
              "\n",
              "              Class  \n",
              "count  43663.000000  \n",
              "mean       0.003069  \n",
              "std        0.055314  \n",
              "min        0.000000  \n",
              "25%        0.000000  \n",
              "50%        0.000000  \n",
              "75%        0.000000  \n",
              "max        1.000000  \n",
              "\n",
              "[8 rows x 31 columns]"
            ],
            "text/html": [
              "\n",
              "  <div id=\"df-04b55a3e-4d2d-4e3f-8fe7-7be91beeb4ee\">\n",
              "    <div class=\"colab-df-container\">\n",
              "      <div>\n",
              "<style scoped>\n",
              "    .dataframe tbody tr th:only-of-type {\n",
              "        vertical-align: middle;\n",
              "    }\n",
              "\n",
              "    .dataframe tbody tr th {\n",
              "        vertical-align: top;\n",
              "    }\n",
              "\n",
              "    .dataframe thead th {\n",
              "        text-align: right;\n",
              "    }\n",
              "</style>\n",
              "<table border=\"1\" class=\"dataframe\">\n",
              "  <thead>\n",
              "    <tr style=\"text-align: right;\">\n",
              "      <th></th>\n",
              "      <th>Time</th>\n",
              "      <th>V1</th>\n",
              "      <th>V2</th>\n",
              "      <th>V3</th>\n",
              "      <th>V4</th>\n",
              "      <th>V5</th>\n",
              "      <th>V6</th>\n",
              "      <th>V7</th>\n",
              "      <th>V8</th>\n",
              "      <th>V9</th>\n",
              "      <th>...</th>\n",
              "      <th>V21</th>\n",
              "      <th>V22</th>\n",
              "      <th>V23</th>\n",
              "      <th>V24</th>\n",
              "      <th>V25</th>\n",
              "      <th>V26</th>\n",
              "      <th>V27</th>\n",
              "      <th>V28</th>\n",
              "      <th>Amount</th>\n",
              "      <th>Class</th>\n",
              "    </tr>\n",
              "  </thead>\n",
              "  <tbody>\n",
              "    <tr>\n",
              "      <th>count</th>\n",
              "      <td>43664.00000</td>\n",
              "      <td>43664.000000</td>\n",
              "      <td>43664.000000</td>\n",
              "      <td>43664.000000</td>\n",
              "      <td>43664.000000</td>\n",
              "      <td>43664.000000</td>\n",
              "      <td>43664.000000</td>\n",
              "      <td>43664.000000</td>\n",
              "      <td>43664.000000</td>\n",
              "      <td>43664.000000</td>\n",
              "      <td>...</td>\n",
              "      <td>43664.000000</td>\n",
              "      <td>43664.000000</td>\n",
              "      <td>43664.000000</td>\n",
              "      <td>43664.000000</td>\n",
              "      <td>43664.000000</td>\n",
              "      <td>43664.000000</td>\n",
              "      <td>43663.000000</td>\n",
              "      <td>43663.000000</td>\n",
              "      <td>43663.000000</td>\n",
              "      <td>43663.000000</td>\n",
              "    </tr>\n",
              "    <tr>\n",
              "      <th>mean</th>\n",
              "      <td>26888.25284</td>\n",
              "      <td>-0.233273</td>\n",
              "      <td>0.031606</td>\n",
              "      <td>0.700508</td>\n",
              "      <td>0.191731</td>\n",
              "      <td>-0.243618</td>\n",
              "      <td>0.099239</td>\n",
              "      <td>-0.117611</td>\n",
              "      <td>0.051499</td>\n",
              "      <td>0.173603</td>\n",
              "      <td>...</td>\n",
              "      <td>-0.026792</td>\n",
              "      <td>-0.110075</td>\n",
              "      <td>-0.039981</td>\n",
              "      <td>0.009712</td>\n",
              "      <td>0.136448</td>\n",
              "      <td>0.022633</td>\n",
              "      <td>0.006871</td>\n",
              "      <td>0.005107</td>\n",
              "      <td>90.313927</td>\n",
              "      <td>0.003069</td>\n",
              "    </tr>\n",
              "    <tr>\n",
              "      <th>std</th>\n",
              "      <td>12814.99066</td>\n",
              "      <td>1.881487</td>\n",
              "      <td>1.614103</td>\n",
              "      <td>1.524287</td>\n",
              "      <td>1.407338</td>\n",
              "      <td>1.409001</td>\n",
              "      <td>1.310495</td>\n",
              "      <td>1.272765</td>\n",
              "      <td>1.214443</td>\n",
              "      <td>1.226176</td>\n",
              "      <td>...</td>\n",
              "      <td>0.739609</td>\n",
              "      <td>0.637124</td>\n",
              "      <td>0.568360</td>\n",
              "      <td>0.592318</td>\n",
              "      <td>0.437462</td>\n",
              "      <td>0.503349</td>\n",
              "      <td>0.390445</td>\n",
              "      <td>0.342269</td>\n",
              "      <td>238.441952</td>\n",
              "      <td>0.055314</td>\n",
              "    </tr>\n",
              "    <tr>\n",
              "      <th>min</th>\n",
              "      <td>0.00000</td>\n",
              "      <td>-56.407510</td>\n",
              "      <td>-72.715728</td>\n",
              "      <td>-32.454198</td>\n",
              "      <td>-5.172595</td>\n",
              "      <td>-42.147898</td>\n",
              "      <td>-26.160506</td>\n",
              "      <td>-26.548144</td>\n",
              "      <td>-41.484823</td>\n",
              "      <td>-8.507059</td>\n",
              "      <td>...</td>\n",
              "      <td>-20.262054</td>\n",
              "      <td>-8.593642</td>\n",
              "      <td>-26.751119</td>\n",
              "      <td>-2.836627</td>\n",
              "      <td>-7.495741</td>\n",
              "      <td>-1.438650</td>\n",
              "      <td>-8.567638</td>\n",
              "      <td>-9.617915</td>\n",
              "      <td>0.000000</td>\n",
              "      <td>0.000000</td>\n",
              "    </tr>\n",
              "    <tr>\n",
              "      <th>25%</th>\n",
              "      <td>18719.75000</td>\n",
              "      <td>-0.980241</td>\n",
              "      <td>-0.538882</td>\n",
              "      <td>0.225681</td>\n",
              "      <td>-0.715653</td>\n",
              "      <td>-0.848251</td>\n",
              "      <td>-0.637897</td>\n",
              "      <td>-0.599128</td>\n",
              "      <td>-0.149257</td>\n",
              "      <td>-0.579444</td>\n",
              "      <td>...</td>\n",
              "      <td>-0.233410</td>\n",
              "      <td>-0.530920</td>\n",
              "      <td>-0.179112</td>\n",
              "      <td>-0.321968</td>\n",
              "      <td>-0.128037</td>\n",
              "      <td>-0.329466</td>\n",
              "      <td>-0.063372</td>\n",
              "      <td>-0.006848</td>\n",
              "      <td>7.570000</td>\n",
              "      <td>0.000000</td>\n",
              "    </tr>\n",
              "    <tr>\n",
              "      <th>50%</th>\n",
              "      <td>31883.00000</td>\n",
              "      <td>-0.244783</td>\n",
              "      <td>0.091807</td>\n",
              "      <td>0.804944</td>\n",
              "      <td>0.190472</td>\n",
              "      <td>-0.277415</td>\n",
              "      <td>-0.155863</td>\n",
              "      <td>-0.072568</td>\n",
              "      <td>0.053267</td>\n",
              "      <td>0.053757</td>\n",
              "      <td>...</td>\n",
              "      <td>-0.072254</td>\n",
              "      <td>-0.084865</td>\n",
              "      <td>-0.051512</td>\n",
              "      <td>0.062302</td>\n",
              "      <td>0.175968</td>\n",
              "      <td>-0.066830</td>\n",
              "      <td>0.008647</td>\n",
              "      <td>0.021761</td>\n",
              "      <td>24.890000</td>\n",
              "      <td>0.000000</td>\n",
              "    </tr>\n",
              "    <tr>\n",
              "      <th>75%</th>\n",
              "      <td>36950.00000</td>\n",
              "      <td>1.158119</td>\n",
              "      <td>0.740709</td>\n",
              "      <td>1.437905</td>\n",
              "      <td>1.071096</td>\n",
              "      <td>0.290816</td>\n",
              "      <td>0.486612</td>\n",
              "      <td>0.431337</td>\n",
              "      <td>0.322613</td>\n",
              "      <td>0.881798</td>\n",
              "      <td>...</td>\n",
              "      <td>0.104877</td>\n",
              "      <td>0.302064</td>\n",
              "      <td>0.077031</td>\n",
              "      <td>0.401497</td>\n",
              "      <td>0.421923</td>\n",
              "      <td>0.303412</td>\n",
              "      <td>0.084707</td>\n",
              "      <td>0.076353</td>\n",
              "      <td>81.555000</td>\n",
              "      <td>0.000000</td>\n",
              "    </tr>\n",
              "    <tr>\n",
              "      <th>max</th>\n",
              "      <td>41600.00000</td>\n",
              "      <td>1.960497</td>\n",
              "      <td>17.930550</td>\n",
              "      <td>4.101716</td>\n",
              "      <td>16.491217</td>\n",
              "      <td>34.801666</td>\n",
              "      <td>22.529298</td>\n",
              "      <td>36.677268</td>\n",
              "      <td>20.007208</td>\n",
              "      <td>10.392889</td>\n",
              "      <td>...</td>\n",
              "      <td>22.614889</td>\n",
              "      <td>5.805795</td>\n",
              "      <td>17.297845</td>\n",
              "      <td>4.014444</td>\n",
              "      <td>5.525093</td>\n",
              "      <td>3.517346</td>\n",
              "      <td>11.135740</td>\n",
              "      <td>33.847808</td>\n",
              "      <td>7879.420000</td>\n",
              "      <td>1.000000</td>\n",
              "    </tr>\n",
              "  </tbody>\n",
              "</table>\n",
              "<p>8 rows × 31 columns</p>\n",
              "</div>\n",
              "      <button class=\"colab-df-convert\" onclick=\"convertToInteractive('df-04b55a3e-4d2d-4e3f-8fe7-7be91beeb4ee')\"\n",
              "              title=\"Convert this dataframe to an interactive table.\"\n",
              "              style=\"display:none;\">\n",
              "        \n",
              "  <svg xmlns=\"http://www.w3.org/2000/svg\" height=\"24px\"viewBox=\"0 0 24 24\"\n",
              "       width=\"24px\">\n",
              "    <path d=\"M0 0h24v24H0V0z\" fill=\"none\"/>\n",
              "    <path d=\"M18.56 5.44l.94 2.06.94-2.06 2.06-.94-2.06-.94-.94-2.06-.94 2.06-2.06.94zm-11 1L8.5 8.5l.94-2.06 2.06-.94-2.06-.94L8.5 2.5l-.94 2.06-2.06.94zm10 10l.94 2.06.94-2.06 2.06-.94-2.06-.94-.94-2.06-.94 2.06-2.06.94z\"/><path d=\"M17.41 7.96l-1.37-1.37c-.4-.4-.92-.59-1.43-.59-.52 0-1.04.2-1.43.59L10.3 9.45l-7.72 7.72c-.78.78-.78 2.05 0 2.83L4 21.41c.39.39.9.59 1.41.59.51 0 1.02-.2 1.41-.59l7.78-7.78 2.81-2.81c.8-.78.8-2.07 0-2.86zM5.41 20L4 18.59l7.72-7.72 1.47 1.35L5.41 20z\"/>\n",
              "  </svg>\n",
              "      </button>\n",
              "      \n",
              "  <style>\n",
              "    .colab-df-container {\n",
              "      display:flex;\n",
              "      flex-wrap:wrap;\n",
              "      gap: 12px;\n",
              "    }\n",
              "\n",
              "    .colab-df-convert {\n",
              "      background-color: #E8F0FE;\n",
              "      border: none;\n",
              "      border-radius: 50%;\n",
              "      cursor: pointer;\n",
              "      display: none;\n",
              "      fill: #1967D2;\n",
              "      height: 32px;\n",
              "      padding: 0 0 0 0;\n",
              "      width: 32px;\n",
              "    }\n",
              "\n",
              "    .colab-df-convert:hover {\n",
              "      background-color: #E2EBFA;\n",
              "      box-shadow: 0px 1px 2px rgba(60, 64, 67, 0.3), 0px 1px 3px 1px rgba(60, 64, 67, 0.15);\n",
              "      fill: #174EA6;\n",
              "    }\n",
              "\n",
              "    [theme=dark] .colab-df-convert {\n",
              "      background-color: #3B4455;\n",
              "      fill: #D2E3FC;\n",
              "    }\n",
              "\n",
              "    [theme=dark] .colab-df-convert:hover {\n",
              "      background-color: #434B5C;\n",
              "      box-shadow: 0px 1px 3px 1px rgba(0, 0, 0, 0.15);\n",
              "      filter: drop-shadow(0px 1px 2px rgba(0, 0, 0, 0.3));\n",
              "      fill: #FFFFFF;\n",
              "    }\n",
              "  </style>\n",
              "\n",
              "      <script>\n",
              "        const buttonEl =\n",
              "          document.querySelector('#df-04b55a3e-4d2d-4e3f-8fe7-7be91beeb4ee button.colab-df-convert');\n",
              "        buttonEl.style.display =\n",
              "          google.colab.kernel.accessAllowed ? 'block' : 'none';\n",
              "\n",
              "        async function convertToInteractive(key) {\n",
              "          const element = document.querySelector('#df-04b55a3e-4d2d-4e3f-8fe7-7be91beeb4ee');\n",
              "          const dataTable =\n",
              "            await google.colab.kernel.invokeFunction('convertToInteractive',\n",
              "                                                     [key], {});\n",
              "          if (!dataTable) return;\n",
              "\n",
              "          const docLinkHtml = 'Like what you see? Visit the ' +\n",
              "            '<a target=\"_blank\" href=https://colab.research.google.com/notebooks/data_table.ipynb>data table notebook</a>'\n",
              "            + ' to learn more about interactive tables.';\n",
              "          element.innerHTML = '';\n",
              "          dataTable['output_type'] = 'display_data';\n",
              "          await google.colab.output.renderOutput(dataTable, element);\n",
              "          const docLink = document.createElement('div');\n",
              "          docLink.innerHTML = docLinkHtml;\n",
              "          element.appendChild(docLink);\n",
              "        }\n",
              "      </script>\n",
              "    </div>\n",
              "  </div>\n",
              "  "
            ]
          },
          "metadata": {},
          "execution_count": 3
        }
      ]
    },
    {
      "cell_type": "code",
      "source": [
        "# Data Visualization\n",
        "df_fraud = df[df['Class'] == 1] # Recovery of fraud data\n",
        "plt.figure(figsize=(15,10))\n",
        "plt.scatter(df_fraud['Time'], df_fraud['Amount']) # Display fraud amounts according to their time\n",
        "plt.title('Scratter plot amount fraud')\n",
        "plt.xlabel('Time')\n",
        "plt.ylabel('Amount')\n",
        "plt.xlim([0,175000])\n",
        "plt.ylim([0,2500])\n",
        "plt.show()"
      ],
      "metadata": {
        "colab": {
          "base_uri": "https://localhost:8080/",
          "height": 621
        },
        "id": "FiO6mCyi43kJ",
        "outputId": "605e84b8-f811-47cb-d633-a91f25143054"
      },
      "execution_count": 4,
      "outputs": [
        {
          "output_type": "display_data",
          "data": {
            "text/plain": [
              "<Figure size 1080x720 with 1 Axes>"
            ],
            "image/png": "[encoded data removed]"
          },
          "metadata": {
            "needs_background": "light"
          }
        }
      ]
    },
    {
      "cell_type": "code",
      "source": [
        "nb_big_fraud = df_fraud[df_fraud['Amount'] > 1000].shape[0] # Recovery of frauds over 1000\n",
        "print('There are only '+ str(nb_big_fraud) + ' frauds where the amount was bigger than 1000 over ' + str(df_fraud.shape[0]) + ' frauds')"
      ],
      "metadata": {
        "colab": {
          "base_uri": "https://localhost:8080/"
        },
        "id": "gpRydw3P5DKd",
        "outputId": "6635c9b3-1962-4b8f-91e5-b4c061a2a774"
      },
      "execution_count": 5,
      "outputs": [
        {
          "output_type": "stream",
          "name": "stdout",
          "text": [
            "There are only 2 frauds where the amount was bigger than 1000 over 134 frauds\n"
          ]
        }
      ]
    },
    {
      "cell_type": "code",
      "source": [
        "# Unbalence data\n",
        "number_fraud = len(data[data.Class == 1])\n",
        "number_no_fraud = len(data[data.Class == 0])\n",
        "print('There are only '+ str(number_fraud) + ' frauds in the original dataset, even though there are ' + str(number_no_fraud) +' no frauds in the dataset')"
      ],
      "metadata": {
        "colab": {
          "base_uri": "https://localhost:8080/"
        },
        "id": "-MJWhBGs5LuX",
        "outputId": "a3f6d9c7-dc25-43e1-d55f-d056dc2ee2c1"
      },
      "execution_count": 6,
      "outputs": [
        {
          "output_type": "stream",
          "name": "stdout",
          "text": [
            "There are only 134 frauds in the original dataset, even though there are 43529 no frauds in the dataset\n"
          ]
        }
      ]
    },
    {
      "cell_type": "code",
      "source": [
        "# Achieve the best accuracy possible it would most likely label every transaction as a non-fraud\n",
        "print(\"The accuracy of the classifier then would be : \"+ str((284315-492)/284315)+ \" which is the number of good classification over the number of tuple to classify\")"
      ],
      "metadata": {
        "colab": {
          "base_uri": "https://localhost:8080/"
        },
        "id": "5A_idSOp636G",
        "outputId": "2a369e41-a240-4100-efba-0bc038fdd4db"
      },
      "execution_count": 7,
      "outputs": [
        {
          "output_type": "stream",
          "name": "stdout",
          "text": [
            "The accuracy of the classifier then would be : 0.998269524998681 which is the number of good classification over the number of tuple to classify\n"
          ]
        }
      ]
    },
    {
      "cell_type": "code",
      "source": [
        "# Correlation of the features\n",
        "# Calculation of the correlation coefficients in pairs, with the default method:\n",
        "# Pearson, Standard Correlation Coefficient\n",
        "df_corr = df.corr() \n",
        "\n",
        "plt.figure(figsize=(15,10))\n",
        "seaborn.heatmap(df_corr, cmap=\"YlGnBu\") # Displaying the Heatmap\n",
        "seaborn.set(font_scale=2,style='white')\n",
        "\n",
        "plt.title('Heatmap correlation')\n",
        "plt.show()"
      ],
      "metadata": {
        "colab": {
          "base_uri": "https://localhost:8080/",
          "height": 646
        },
        "id": "4-W_x11Q7sjg",
        "outputId": "f9202433-8836-4133-d253-9e4a67fc481f"
      },
      "execution_count": 8,
      "outputs": [
        {
          "output_type": "display_data",
          "data": {
            "text/plain": [
              "<Figure size 1080x720 with 2 Axes>"
            ],
            "image/png": "[encoded data removed]"
          },
          "metadata": {
            "needs_background": "light"
          }
        }
      ]
    },
    {
      "cell_type": "code",
      "source": [
        "# Most of the features are not correlated with each other\n",
        "# PCA was previously performed on the data\n",
        "\n",
        "# Retrieving the correlation coefficients per feature in relation to the feature class\n",
        "rank = df_corr['Class'] \n",
        "df_rank = pd.DataFrame(rank) \n",
        "\n",
        "# Ranking the absolute values of the coefficientsin descending order\n",
        "df_rank = np.abs(df_rank).sort_values(by='Class',ascending=False) \n",
        "\n",
        "# Removing Missing Data (not a number)\n",
        "df_rank.dropna(inplace=True)"
      ],
      "metadata": {
        "id": "O8ncxs6v9ZxF"
      },
      "execution_count": 9,
      "outputs": []
    },
    {
      "cell_type": "code",
      "source": [
        "# We seperate ours data in two groups : a train dataset and a test dataset\n",
        "\n",
        "# Build our train dataset\n",
        "# Cut in two the original dataset\n",
        "df_train_all = df[0:150000] \n",
        "\n",
        "# Seperate the data which are the frauds and the no frauds\n",
        "df_train_1 = df_train_all[df_train_all['Class'] == 1] \n",
        "df_train_0 = df_train_all[df_train_all['Class'] == 0]\n",
        "print('In this dataset, we have ' + str(len(df_train_1)) +\" frauds so we need to take a similar number of non-fraud\")\n",
        "\n",
        "df_sample=df_train_0.sample(300)\n",
        "\n",
        "# Gather the frauds with the no frauds.\n",
        "df_train = df_train_1.append(df_sample)  \n",
        "# Mix dataset\n",
        "df_train = df_train.sample(frac=1)"
      ],
      "metadata": {
        "id": "sNN63GfP9dvM",
        "colab": {
          "base_uri": "https://localhost:8080/"
        },
        "outputId": "4ed8b31f-5ca1-4fa9-d3f3-62a2ead2ff87"
      },
      "execution_count": 10,
      "outputs": [
        {
          "output_type": "stream",
          "name": "stdout",
          "text": [
            "In this dataset, we have 134 frauds so we need to take a similar number of non-fraud\n"
          ]
        }
      ]
    },
    {
      "cell_type": "code",
      "source": [
        "# Drop the features Time (useless), and the Class (label)\n",
        "X_train = df_train.drop(['Time', 'Class'],axis=1)\n",
        "\n",
        "# Create our label\n",
        "y_train = df_train['Class'] \n",
        "X_train = np.asarray(X_train)\n",
        "y_train = np.asarray(y_train)"
      ],
      "metadata": {
        "id": "C1nRHLMZ9gmn"
      },
      "execution_count": 11,
      "outputs": []
    },
    {
      "cell_type": "code",
      "source": [
        "# With all the test dataset to see if the model learn correctly \n",
        "df_test_all = df[150000:]\n",
        "\n",
        "X_test_all = df_test_all.drop(['Time', 'Class'],axis=1)\n",
        "y_test_all = df_test_all['Class']\n",
        "X_test_all = np.asarray(X_test_all)\n",
        "y_test_all = np.asarray(y_test_all)"
      ],
      "metadata": {
        "id": "T053Cr8Z9ikr"
      },
      "execution_count": 12,
      "outputs": []
    },
    {
      "cell_type": "code",
      "source": [
        "# Define training and testing set after applying a dimension reduction \n",
        "# Take the first ten ranked features\n",
        "X_train_rank = df_train[df_rank.index[1:11]] \n",
        "X_train_rank = np.asarray(X_train_rank)\n",
        "\n",
        "X_test_all_rank = df_test_all[df_rank.index[1:11]]\n",
        "X_test_all_rank = np.asarray(X_test_all_rank)\n",
        "y_test_all = np.asarray(y_test_all)"
      ],
      "metadata": {
        "id": "GMmuJdiD9lr8"
      },
      "execution_count": 13,
      "outputs": []
    },
    {
      "cell_type": "code",
      "source": [
        "# Confusion Matrix\n",
        "# Binary label, Class = 1 (fraud) and Class = 0 (no fraud)\n",
        "class_names=np.array(['0','1'])"
      ],
      "metadata": {
        "id": "-xvULZtv9_zL"
      },
      "execution_count": 14,
      "outputs": []
    },
    {
      "cell_type": "code",
      "source": [
        "# Function to plot the confusion Matrix\n",
        "def plot_confusion_matrix(cm, classes,\n",
        "                          title='Confusion matrix',\n",
        "                          cmap=plt.cm.Blues):\n",
        "    \n",
        "    plt.imshow(cm, interpolation='nearest', cmap=cmap)\n",
        "    plt.title(title)\n",
        "    plt.colorbar()\n",
        "    tick_marks = np.arange(len(classes))\n",
        "    plt.xticks(tick_marks, classes, rotation=45)\n",
        "    plt.yticks(tick_marks, classes)\n",
        "\n",
        "    fmt = 'd' \n",
        "    thresh = cm.max() / 2.\n",
        "    for i, j in itertools.product(range(cm.shape[0]), range(cm.shape[1])):\n",
        "        plt.text(j, i, format(cm[i, j], fmt),\n",
        "                 horizontalalignment=\"center\",\n",
        "                 color=\"white\" if cm[i, j] > thresh else \"black\")\n",
        "\n",
        "    plt.tight_layout()\n",
        "    plt.ylabel('True label')\n",
        "    plt.xlabel('Predicted label')"
      ],
      "metadata": {
        "id": "lqcQa_uo-DUp"
      },
      "execution_count": 15,
      "outputs": []
    },
    {
      "cell_type": "code",
      "source": [
        "# Model Selection\n",
        "# Set a SVM classifier, the default SVM Classifier (Kernel = Radial Basis Function)\n",
        "classifier = svm.SVC(kernel='linear') \n",
        "\n",
        "# Then we train our model, with our balanced data train.\n",
        "classifier.fit(X_train, y_train)"
      ],
      "metadata": {
        "id": "5IzK2RSc-ESg",
        "colab": {
          "base_uri": "https://localhost:8080/"
        },
        "outputId": "98c363da-1122-4ec8-ef75-b521f3096e53"
      },
      "execution_count": 16,
      "outputs": [
        {
          "output_type": "execute_result",
          "data": {
            "text/plain": [
              "SVC(kernel='linear')"
            ]
          },
          "metadata": {},
          "execution_count": 16
        }
      ]
    }
  ]
}